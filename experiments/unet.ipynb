{
 "cells": [
  {
   "cell_type": "code",
   "execution_count": null,
   "id": "39133f78-8fe1-424d-bba2-f3dc434d094e",
   "metadata": {},
   "outputs": [],
   "source": []
  },
  {
   "cell_type": "code",
   "execution_count": 1,
   "id": "17edfdd2-9178-4b6b-b506-945b1777a8dc",
   "metadata": {},
   "outputs": [],
   "source": [
    "class NestedUnet:\n",
    "    pass"
   ]
  },
  {
   "cell_type": "code",
   "execution_count": null,
   "id": "ee01a298-a063-4141-81f4-a78932cfb71e",
   "metadata": {},
   "outputs": [],
   "source": []
  }
 ],
 "metadata": {
  "kernelspec": {
   "display_name": "MatryoshkaDiffusion",
   "language": "python",
   "name": "matryoshkadiffusion"
  },
  "language_info": {
   "codemirror_mode": {
    "name": "ipython",
    "version": 3
   },
   "file_extension": ".py",
   "mimetype": "text/x-python",
   "name": "python",
   "nbconvert_exporter": "python",
   "pygments_lexer": "ipython3",
   "version": "3.12.8"
  }
 },
 "nbformat": 4,
 "nbformat_minor": 5
}
